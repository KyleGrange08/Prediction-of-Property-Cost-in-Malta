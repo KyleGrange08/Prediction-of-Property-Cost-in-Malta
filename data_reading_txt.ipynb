{
 "cells": [
  {
   "cell_type": "code",
   "execution_count": 1,
   "metadata": {},
   "outputs": [],
   "source": [
    "import pandas as pd\n",
    "import ast"
   ]
  },
  {
   "cell_type": "code",
   "execution_count": 2,
   "metadata": {},
   "outputs": [],
   "source": [
    "files = [\n",
    "    {\"file\": \"./PropertyData_2019.txt\", \"year\": 2019},\n",
    "    {\"file\": \"./PropertyData_2020.txt\", \"year\": 2020},\n",
    "    {\"file\": \"./PropertyData_2021.txt\", \"year\": 2021}]\n",
    "\n",
    "\n",
    "df = pd.DataFrame(columns=[\"location\", \"id\", \"price\", \"description\", \"year\"])"
   ]
  },
  {
   "cell_type": "code",
   "execution_count": 3,
   "metadata": {},
   "outputs": [],
   "source": [
    "def read_file(file, year):\n",
    "    data = []\n",
    "    with open(file, 'r') as f:\n",
    "        for line in f:\n",
    "            row = ast.literal_eval(line)\n",
    "            row.append(year)\n",
    "            data.append(row)\n",
    "\n",
    "    return pd.DataFrame(data, columns=[\"location\", \"id\", \"price\", \"description\", \"year\"])"
   ]
  },
  {
   "cell_type": "code",
   "execution_count": 4,
   "metadata": {},
   "outputs": [],
   "source": [
    "for file in files:\n",
    "    df = pd.concat([df, read_file(file['file'], file['year'])])\n",
    "    "
   ]
  },
  {
   "cell_type": "code",
   "execution_count": 5,
   "metadata": {},
   "outputs": [
    {
     "data": {
      "text/plain": [
       "(339, 5)"
      ]
     },
     "execution_count": 5,
     "metadata": {},
     "output_type": "execute_result"
    }
   ],
   "source": [
    "df.shape"
   ]
  },
  {
   "cell_type": "code",
   "execution_count": 6,
   "metadata": {},
   "outputs": [
    {
     "data": {
      "text/html": [
       "<div>\n",
       "<style scoped>\n",
       "    .dataframe tbody tr th:only-of-type {\n",
       "        vertical-align: middle;\n",
       "    }\n",
       "\n",
       "    .dataframe tbody tr th {\n",
       "        vertical-align: top;\n",
       "    }\n",
       "\n",
       "    .dataframe thead th {\n",
       "        text-align: right;\n",
       "    }\n",
       "</style>\n",
       "<table border=\"1\" class=\"dataframe\">\n",
       "  <thead>\n",
       "    <tr style=\"text-align: right;\">\n",
       "      <th></th>\n",
       "      <th>location</th>\n",
       "      <th>id</th>\n",
       "      <th>price</th>\n",
       "      <th>description</th>\n",
       "      <th>year</th>\n",
       "    </tr>\n",
       "  </thead>\n",
       "  <tbody>\n",
       "    <tr>\n",
       "      <th>0</th>\n",
       "      <td>HAMRUN</td>\n",
       "      <td>700439</td>\n",
       "      <td>€260000</td>\n",
       "      <td>Highly finished corner PENTHOUSE served with l...</td>\n",
       "      <td>2019</td>\n",
       "    </tr>\n",
       "    <tr>\n",
       "      <th>1</th>\n",
       "      <td>SWIEQI</td>\n",
       "      <td>2002590</td>\n",
       "      <td>€430000</td>\n",
       "      <td>New on the market designer finished and fully...</td>\n",
       "      <td>2019</td>\n",
       "    </tr>\n",
       "    <tr>\n",
       "      <th>2</th>\n",
       "      <td>VITTORIOSA</td>\n",
       "      <td>2002588</td>\n",
       "      <td>€595000</td>\n",
       "      <td>A superb sea front designer finished third fl...</td>\n",
       "      <td>2019</td>\n",
       "    </tr>\n",
       "    <tr>\n",
       "      <th>3</th>\n",
       "      <td>SLIEMA</td>\n",
       "      <td>2002547</td>\n",
       "      <td>€440000</td>\n",
       "      <td>Very large fully furnished APARTMENT (approx ...</td>\n",
       "      <td>2019</td>\n",
       "    </tr>\n",
       "    <tr>\n",
       "      <th>4</th>\n",
       "      <td>ST PAULS BAY</td>\n",
       "      <td>2002394</td>\n",
       "      <td>€480000</td>\n",
       "      <td>A luxurious seafront APARTMENT situated in a ...</td>\n",
       "      <td>2019</td>\n",
       "    </tr>\n",
       "  </tbody>\n",
       "</table>\n",
       "</div>"
      ],
      "text/plain": [
       "       location       id    price  \\\n",
       "0        HAMRUN   700439  €260000   \n",
       "1        SWIEQI  2002590  €430000   \n",
       "2    VITTORIOSA  2002588  €595000   \n",
       "3        SLIEMA  2002547  €440000   \n",
       "4  ST PAULS BAY  2002394  €480000   \n",
       "\n",
       "                                         description  year  \n",
       "0  Highly finished corner PENTHOUSE served with l...  2019  \n",
       "1   New on the market designer finished and fully...  2019  \n",
       "2   A superb sea front designer finished third fl...  2019  \n",
       "3   Very large fully furnished APARTMENT (approx ...  2019  \n",
       "4   A luxurious seafront APARTMENT situated in a ...  2019  "
      ]
     },
     "execution_count": 6,
     "metadata": {},
     "output_type": "execute_result"
    }
   ],
   "source": [
    "df.head()"
   ]
  },
  {
   "cell_type": "code",
   "execution_count": 32,
   "metadata": {},
   "outputs": [],
   "source": [
    "df.to_csv('./data_2019_2021.csv', index=None)"
   ]
  }
 ],
 "metadata": {
  "kernelspec": {
   "display_name": "Python 3.9.12 ('base')",
   "language": "python",
   "name": "python3"
  },
  "language_info": {
   "codemirror_mode": {
    "name": "ipython",
    "version": 3
   },
   "file_extension": ".py",
   "mimetype": "text/x-python",
   "name": "python",
   "nbconvert_exporter": "python",
   "pygments_lexer": "ipython3",
   "version": "3.9.12"
  },
  "orig_nbformat": 4,
  "vscode": {
   "interpreter": {
    "hash": "8c1552cf41d1683ac11d5ec8223ae60b84a82eb4c34097f12daf934b5f661632"
   }
  }
 },
 "nbformat": 4,
 "nbformat_minor": 2
}
