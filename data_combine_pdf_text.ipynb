{
 "cells": [
  {
   "cell_type": "code",
   "execution_count": 1,
   "metadata": {},
   "outputs": [],
   "source": [
    "import pandas as pd"
   ]
  },
  {
   "cell_type": "code",
   "execution_count": 2,
   "metadata": {},
   "outputs": [],
   "source": [
    "df_1 = pd.read_csv('./data_2011_2016.csv')\n",
    "df_2 = pd.read_csv('./data_2019_2021.csv')"
   ]
  },
  {
   "cell_type": "code",
   "execution_count": 3,
   "metadata": {},
   "outputs": [
    {
     "data": {
      "text/html": [
       "<div>\n",
       "<style scoped>\n",
       "    .dataframe tbody tr th:only-of-type {\n",
       "        vertical-align: middle;\n",
       "    }\n",
       "\n",
       "    .dataframe tbody tr th {\n",
       "        vertical-align: top;\n",
       "    }\n",
       "\n",
       "    .dataframe thead th {\n",
       "        text-align: right;\n",
       "    }\n",
       "</style>\n",
       "<table border=\"1\" class=\"dataframe\">\n",
       "  <thead>\n",
       "    <tr style=\"text-align: right;\">\n",
       "      <th></th>\n",
       "      <th>location</th>\n",
       "      <th>ref</th>\n",
       "      <th>price</th>\n",
       "      <th>description</th>\n",
       "      <th>owner</th>\n",
       "      <th>year</th>\n",
       "    </tr>\n",
       "  </thead>\n",
       "  <tbody>\n",
       "    <tr>\n",
       "      <th>0</th>\n",
       "      <td>Xghajra</td>\n",
       "      <td>REF 571082</td>\n",
       "      <td>256,000/Lm109,901</td>\n",
       "      <td>TERRACED HOUSE minutes walk from the promenade...</td>\n",
       "      <td>Owner 79728192/21806554</td>\n",
       "      <td>2016</td>\n",
       "    </tr>\n",
       "    <tr>\n",
       "      <th>1</th>\n",
       "      <td>Swieqi</td>\n",
       "      <td>REF 571088</td>\n",
       "      <td>365,000/Lm156,695</td>\n",
       "      <td>TERRACED HOUSE in great area, having hall lead...</td>\n",
       "      <td>Owner 79380053/21385502</td>\n",
       "      <td>2016</td>\n",
       "    </tr>\n",
       "    <tr>\n",
       "      <th>2</th>\n",
       "      <td>Qormi</td>\n",
       "      <td>REF 571239</td>\n",
       "      <td>300,000/Lm128,790</td>\n",
       "      <td>Highly finished elevated TERRACED HOUSE, consi...</td>\n",
       "      <td>Owner 77187944/21437467</td>\n",
       "      <td>2016</td>\n",
       "    </tr>\n",
       "    <tr>\n",
       "      <th>3</th>\n",
       "      <td>Msida</td>\n",
       "      <td>REF 570664</td>\n",
       "      <td>186,300/Lm79,979</td>\n",
       "      <td>Corner, well kept TERRACED HOUSE comprising an...</td>\n",
       "      <td>Owner 99450405/21246533</td>\n",
       "      <td>2016</td>\n",
       "    </tr>\n",
       "    <tr>\n",
       "      <th>4</th>\n",
       "      <td>San Gwann</td>\n",
       "      <td>REF 571734</td>\n",
       "      <td>210,000/Lm90,153</td>\n",
       "      <td>Corner TERRACED HOUSE comprising entrance hall...</td>\n",
       "      <td>Owner 99427561/99883181</td>\n",
       "      <td>2016</td>\n",
       "    </tr>\n",
       "  </tbody>\n",
       "</table>\n",
       "</div>"
      ],
      "text/plain": [
       "    location          ref              price  \\\n",
       "0    Xghajra  REF 571082   256,000/Lm109,901   \n",
       "1     Swieqi  REF 571088   365,000/Lm156,695   \n",
       "2      Qormi  REF 571239   300,000/Lm128,790   \n",
       "3      Msida  REF 570664    186,300/Lm79,979   \n",
       "4  San Gwann  REF 571734    210,000/Lm90,153   \n",
       "\n",
       "                                         description                    owner  \\\n",
       "0  TERRACED HOUSE minutes walk from the promenade...  Owner 79728192/21806554   \n",
       "1  TERRACED HOUSE in great area, having hall lead...  Owner 79380053/21385502   \n",
       "2  Highly finished elevated TERRACED HOUSE, consi...  Owner 77187944/21437467   \n",
       "3  Corner, well kept TERRACED HOUSE comprising an...  Owner 99450405/21246533   \n",
       "4  Corner TERRACED HOUSE comprising entrance hall...  Owner 99427561/99883181   \n",
       "\n",
       "   year  \n",
       "0  2016  \n",
       "1  2016  \n",
       "2  2016  \n",
       "3  2016  \n",
       "4  2016  "
      ]
     },
     "execution_count": 3,
     "metadata": {},
     "output_type": "execute_result"
    }
   ],
   "source": [
    "df_1.head()"
   ]
  },
  {
   "cell_type": "code",
   "execution_count": 4,
   "metadata": {},
   "outputs": [
    {
     "data": {
      "text/html": [
       "<div>\n",
       "<style scoped>\n",
       "    .dataframe tbody tr th:only-of-type {\n",
       "        vertical-align: middle;\n",
       "    }\n",
       "\n",
       "    .dataframe tbody tr th {\n",
       "        vertical-align: top;\n",
       "    }\n",
       "\n",
       "    .dataframe thead th {\n",
       "        text-align: right;\n",
       "    }\n",
       "</style>\n",
       "<table border=\"1\" class=\"dataframe\">\n",
       "  <thead>\n",
       "    <tr style=\"text-align: right;\">\n",
       "      <th></th>\n",
       "      <th>location</th>\n",
       "      <th>id</th>\n",
       "      <th>price</th>\n",
       "      <th>description</th>\n",
       "      <th>year</th>\n",
       "    </tr>\n",
       "  </thead>\n",
       "  <tbody>\n",
       "    <tr>\n",
       "      <th>0</th>\n",
       "      <td>HAMRUN</td>\n",
       "      <td>700439</td>\n",
       "      <td>€260000</td>\n",
       "      <td>Highly finished corner PENTHOUSE served with l...</td>\n",
       "      <td>2019</td>\n",
       "    </tr>\n",
       "    <tr>\n",
       "      <th>1</th>\n",
       "      <td>SWIEQI</td>\n",
       "      <td>2002590</td>\n",
       "      <td>€430000</td>\n",
       "      <td>New on the market designer finished and fully...</td>\n",
       "      <td>2019</td>\n",
       "    </tr>\n",
       "    <tr>\n",
       "      <th>2</th>\n",
       "      <td>VITTORIOSA</td>\n",
       "      <td>2002588</td>\n",
       "      <td>€595000</td>\n",
       "      <td>A superb sea front designer finished third fl...</td>\n",
       "      <td>2019</td>\n",
       "    </tr>\n",
       "    <tr>\n",
       "      <th>3</th>\n",
       "      <td>SLIEMA</td>\n",
       "      <td>2002547</td>\n",
       "      <td>€440000</td>\n",
       "      <td>Very large fully furnished APARTMENT (approx ...</td>\n",
       "      <td>2019</td>\n",
       "    </tr>\n",
       "    <tr>\n",
       "      <th>4</th>\n",
       "      <td>ST PAULS BAY</td>\n",
       "      <td>2002394</td>\n",
       "      <td>€480000</td>\n",
       "      <td>A luxurious seafront APARTMENT situated in a ...</td>\n",
       "      <td>2019</td>\n",
       "    </tr>\n",
       "  </tbody>\n",
       "</table>\n",
       "</div>"
      ],
      "text/plain": [
       "       location       id    price  \\\n",
       "0        HAMRUN   700439  €260000   \n",
       "1        SWIEQI  2002590  €430000   \n",
       "2    VITTORIOSA  2002588  €595000   \n",
       "3        SLIEMA  2002547  €440000   \n",
       "4  ST PAULS BAY  2002394  €480000   \n",
       "\n",
       "                                         description  year  \n",
       "0  Highly finished corner PENTHOUSE served with l...  2019  \n",
       "1   New on the market designer finished and fully...  2019  \n",
       "2   A superb sea front designer finished third fl...  2019  \n",
       "3   Very large fully furnished APARTMENT (approx ...  2019  \n",
       "4   A luxurious seafront APARTMENT situated in a ...  2019  "
      ]
     },
     "execution_count": 4,
     "metadata": {},
     "output_type": "execute_result"
    }
   ],
   "source": [
    "df_2.head()"
   ]
  },
  {
   "cell_type": "code",
   "execution_count": 5,
   "metadata": {},
   "outputs": [],
   "source": [
    "df_1.drop(['owner'], axis=1, inplace=True)"
   ]
  },
  {
   "cell_type": "code",
   "execution_count": 6,
   "metadata": {},
   "outputs": [],
   "source": [
    "df_2.rename(columns={'id': 'ref'}, inplace=True)"
   ]
  },
  {
   "cell_type": "code",
   "execution_count": 7,
   "metadata": {},
   "outputs": [],
   "source": [
    "df = pd.concat([df_1, df_2])"
   ]
  },
  {
   "cell_type": "code",
   "execution_count": 8,
   "metadata": {},
   "outputs": [],
   "source": [
    "df.to_csv('data_combined.csv', index=None)"
   ]
  }
 ],
 "metadata": {
  "kernelspec": {
   "display_name": "Python 3.9.12 ('base')",
   "language": "python",
   "name": "python3"
  },
  "language_info": {
   "codemirror_mode": {
    "name": "ipython",
    "version": 3
   },
   "file_extension": ".py",
   "mimetype": "text/x-python",
   "name": "python",
   "nbconvert_exporter": "python",
   "pygments_lexer": "ipython3",
   "version": "3.9.12"
  },
  "orig_nbformat": 4,
  "vscode": {
   "interpreter": {
    "hash": "8c1552cf41d1683ac11d5ec8223ae60b84a82eb4c34097f12daf934b5f661632"
   }
  }
 },
 "nbformat": 4,
 "nbformat_minor": 2
}
